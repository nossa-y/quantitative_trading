{
 "cells": [
  {
   "cell_type": "code",
   "execution_count": 1,
   "id": "b6ea4041-d6b9-4f8e-9359-47802164958e",
   "metadata": {},
   "outputs": [
    {
     "name": "stdout",
     "output_type": "stream",
     "text": [
      "                                 Open        High         Low       Close  \\\n",
      "Date                                                                        \n",
      "2023-05-30 00:00:00-04:00  176.025173  178.044447  175.637233  176.363373   \n",
      "2023-05-31 00:00:00-04:00  176.393224  178.402557  175.826227  176.313644   \n",
      "2023-06-01 00:00:00-04:00  176.761268  179.168482  175.995331  179.138641   \n",
      "2023-06-02 00:00:00-04:00  180.073674  180.819712  178.313020  179.994095   \n",
      "2023-06-05 00:00:00-04:00  181.665223  183.972959  177.099459  178.631332   \n",
      "\n",
      "                              Volume  Dividends  Stock Splits  \n",
      "Date                                                           \n",
      "2023-05-30 00:00:00-04:00   55964400        0.0           0.0  \n",
      "2023-05-31 00:00:00-04:00   99625300        0.0           0.0  \n",
      "2023-06-01 00:00:00-04:00   68901800        0.0           0.0  \n",
      "2023-06-02 00:00:00-04:00   61945900        0.0           0.0  \n",
      "2023-06-05 00:00:00-04:00  121946500        0.0           0.0  \n"
     ]
    },
    {
     "name": "stderr",
     "output_type": "stream",
     "text": [
      "/Users/nossa/miniconda3/lib/python3.11/site-packages/yfinance/utils.py:775: FutureWarning: The 'unit' keyword in TimedeltaIndex construction is deprecated and will be removed in a future version. Use pd.to_timedelta instead.\n",
      "  df.index += _pd.TimedeltaIndex(dst_error_hours, 'h')\n"
     ]
    }
   ],
   "source": [
    "import yfinance as yf\n",
    "import pandas as pd\n",
    "\n",
    "# Get historical market data for a specific stock (e.g., 'AAPL' for Apple Inc.)\n",
    "stock = yf.Ticker('AAPL')\n",
    "hist = stock.history(period=\"1y\")  # Fetch data for the last year\n",
    "\n",
    "# Display the first few rows of the data\n",
    "print(hist.head())\n"
   ]
  },
  {
   "cell_type": "code",
   "execution_count": null,
   "id": "b279dc86-3a2e-43a9-b7b7-b608c20c317b",
   "metadata": {},
   "outputs": [],
   "source": []
  }
 ],
 "metadata": {
  "kernelspec": {
   "display_name": "venv",
   "language": "python",
   "name": "venv"
  },
  "language_info": {
   "codemirror_mode": {
    "name": "ipython",
    "version": 3
   },
   "file_extension": ".py",
   "mimetype": "text/x-python",
   "name": "python",
   "nbconvert_exporter": "python",
   "pygments_lexer": "ipython3",
   "version": "3.11.5"
  }
 },
 "nbformat": 4,
 "nbformat_minor": 5
}
